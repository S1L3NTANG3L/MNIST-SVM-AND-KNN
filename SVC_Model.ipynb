{
 "cells": [
  {
   "cell_type": "markdown",
   "id": "6ce35956-cfbc-4b2d-bc46-24dce99eb172",
   "metadata": {},
   "source": [
    "Import all the needed libraries"
   ]
  },
  {
   "cell_type": "code",
   "execution_count": 1,
   "id": "f50f96eb-446d-4e36-8101-778a93e05241",
   "metadata": {},
   "outputs": [],
   "source": [
    "import struct\n",
    "import time\n",
    "import numpy as np\n",
    "from sklearn import svm, metrics\n",
    "from sklearn import datasets\n",
    "import matplotlib as mpl\n",
    "import matplotlib.pyplot as plt\n",
    "import pickle\n",
    "import itertools\n",
    "%matplotlib inline"
   ]
  },
  {
   "cell_type": "markdown",
   "id": "db717967-c727-4148-925b-cf7fe2eca6f6",
   "metadata": {},
   "source": [
    "The following function gets used to plot the confusion matrix using the confusion matrix and the classes"
   ]
  },
  {
   "cell_type": "code",
   "execution_count": 2,
   "id": "151e2fdb-986b-43b7-aec9-b742f73e27b0",
   "metadata": {},
   "outputs": [],
   "source": [
    "def plot_confusion_matrix(cm, classes,\n",
    "                          normalize=False,\n",
    "                          title='Confusion matrix', cmap=plt.cm.Blues):\n",
    "    \"\"\"\n",
    "    This function prints and plots the confusion matrix. \n",
    "    Normalization can be applied by setting normalize=True`.\n",
    "    \"\"\"\n",
    "    if normalize:\n",
    "        cm = cm.astype('float') / cm. sum (axis=1)[:, np.newaxis] \n",
    "        print(\"Normalized confusion matrix\")\n",
    "    else:    \n",
    "        print('Confusion matrix, without normalization')\n",
    "    print(cm)\n",
    "    plt.imshow(cm, interpolation='nearest', cmap=cmap)\n",
    "    plt.title(title)\n",
    "    plt.colorbar()\n",
    "    tick_marks = np.arange(len(classes))\n",
    "    plt.xticks(tick_marks, classes, rotation=45)\n",
    "    plt.yticks(tick_marks, classes)\n",
    "    fmt = '.2f' if normalize else 'd'\n",
    "    thresh = cm.max() / 2.\n",
    "    for i, j in itertools.product (range(cm.shape[0]), range(cm.shape[1])):\n",
    "        plt.text(j, i, format(cm[i, j], fmt),\n",
    "            horizontalalignment=\"center\",\n",
    "            color=\"white\" if cm[i, j]> thresh else \"black\")\n",
    "    plt.tight_layout()\n",
    "    plt.ylabel('True label')\n",
    "    plt.xlabel('Predicted label')"
   ]
  },
  {
   "cell_type": "markdown",
   "id": "49c2ddd0-8c3e-4285-b3d0-d5bfd8e9368d",
   "metadata": {},
   "source": [
    "The following function gets used to import the images into a numpy array"
   ]
  },
  {
   "cell_type": "code",
   "execution_count": 3,
   "id": "9a81b1a5-9827-4e02-9570-e72b261064f3",
   "metadata": {},
   "outputs": [],
   "source": [
    "def read_idx(filename):\n",
    "    with open(filename, 'rb') as f:\n",
    "        zero, data_type, dims = struct.unpack('>HBB', f.read(4))\n",
    "        shape = tuple(struct.unpack('>I', f.read(4))[0] for d in range(dims))\n",
    "        return np.frombuffer(f.read(), dtype=np.uint8).reshape(shape)"
   ]
  },
  {
   "cell_type": "markdown",
   "id": "897102ad-9c77-4b40-bddb-c88fdfbcfc06",
   "metadata": {},
   "source": [
    "The following code imports the images into the respective arrays and flatten them into 1d"
   ]
  },
  {
   "cell_type": "code",
   "execution_count": 4,
   "id": "b375e73b-579a-42dc-a60f-69ff187265ce",
   "metadata": {},
   "outputs": [],
   "source": [
    "raw_train = read_idx(\"train-images-idx3-ubyte\")\n",
    "train_data = np.reshape(raw_train, (60000, 28*28))\n",
    "train_label = read_idx(\"train-labels-idx1-ubyte\")\n",
    "raw_test = read_idx(\"t10k-images-idx3-ubyte\")\n",
    "test_data = np.reshape(raw_test, (10000, 28*28))\n",
    "test_label = read_idx(\"t10k-labels-idx1-ubyte\")"
   ]
  },
  {
   "cell_type": "markdown",
   "id": "b4fa9ab7-dc1e-4329-99af-708aa6b2b23b",
   "metadata": {},
   "source": [
    "This code is the training code that takes the training data and uses it to construct an model capable of classifying all the data.\n",
    "The training time is also measured to compare the impact of hyperparameter changes."
   ]
  },
  {
   "cell_type": "code",
   "execution_count": null,
   "id": "1bce79f1-35c0-4083-afc0-d1ee5c805dd7",
   "metadata": {},
   "outputs": [],
   "source": [
    "start = time.time()\n",
    "X = train_data/255.0\n",
    "Y = train_label\n",
    "svc = svm.SVC(C=5, gamma=0.05, kernel='rbf', max_iter=-1, class_weight='balanced', probability = True, cache_size = 5000).fit(X, Y)\n",
    "end = time.time()\n",
    "print(\"SVC Train Time: \", end - start,\"s\")"
   ]
  },
  {
   "cell_type": "markdown",
   "id": "afa2e06a-b92f-4073-80d2-aa810a5245d9",
   "metadata": {},
   "source": [
    "This code saves the trained model to a .pkl file for later use."
   ]
  },
  {
   "cell_type": "code",
   "execution_count": null,
   "id": "2cd3dfa9-1c40-41fb-95c2-1c24e987ad02",
   "metadata": {},
   "outputs": [],
   "source": [
    "pkl_filename = \"pickle_svc_model.pkl\"\n",
    "with open(pkl_filename, 'wb') as file:\n",
    "    pickle.dump(svc, file)"
   ]
  },
  {
   "cell_type": "markdown",
   "id": "526f4d56-599b-4475-a44e-313b3900317a",
   "metadata": {},
   "source": [
    "This code reopens the previously saved model"
   ]
  },
  {
   "cell_type": "code",
   "execution_count": null,
   "id": "3260d491-88b8-4040-a2ce-e8e44fd488ed",
   "metadata": {},
   "outputs": [],
   "source": [
    "pkl_filename = \"pickle_svc_model.pkl\"\n",
    "with open(pkl_filename, 'rb') as file:\n",
    "    svc = pickle.load(file)"
   ]
  },
  {
   "cell_type": "markdown",
   "id": "bf1960f9-eb2a-4b35-8e6a-24dec57b6ace",
   "metadata": {},
   "source": [
    "This code gets used to test the previously trained model and times it for feedback."
   ]
  },
  {
   "cell_type": "code",
   "execution_count": null,
   "id": "5768690d-9a40-45a2-93f8-66fcb8e5d50b",
   "metadata": {},
   "outputs": [],
   "source": [
    "start = time.time()\n",
    "x_test = test_data[idx]/255.0\n",
    "y_true = test_label[idx]\n",
    "y_pred = svc.predict(x_test)\n",
    "end = time.time()\n",
    "print(\"SVC Predict Time: \", end - start,\"s\")"
   ]
  },
  {
   "cell_type": "markdown",
   "id": "196d0dc7-5d7c-4427-aff3-bbc9a537d2fc",
   "metadata": {},
   "source": [
    "This code constructs a confusion matrix and prints it for visual feedback on the effectiveness of the model."
   ]
  },
  {
   "cell_type": "code",
   "execution_count": null,
   "id": "1a5cfbbe-4aca-4988-9775-1cc025b2dd5b",
   "metadata": {},
   "outputs": [],
   "source": [
    "cm = metrics.confusion_matrix(y_true, y_pred)\n",
    "plot_confusion_matrix(cm, [\"0\",\"1\",\"2\",\"3\",\"4\",\"5\",\"6\",\"7\",\"8\",\"9\"]) "
   ]
  },
  {
   "cell_type": "markdown",
   "id": "05f5f8f7-1a6a-4b7b-9a4d-b8bfedbd13ac",
   "metadata": {},
   "source": [
    "This code tests the model and returns the accuracy score and the time it took to complete"
   ]
  },
  {
   "cell_type": "code",
   "execution_count": null,
   "id": "f4311026-6c56-40a6-b826-dd0b46b15237",
   "metadata": {},
   "outputs": [],
   "source": [
    "start = time.time()\n",
    "score = svc.score(x_test, y_true)\n",
    "print(\"Test score: {0:.2f} %\".format(100 * score))\n",
    "end = time.time()\n",
    "print(\"SVC Score Time: \", end - start, \"s\")"
   ]
  },
  {
   "cell_type": "markdown",
   "id": "a23958de-7eed-41aa-92ee-1faba3a7bc00",
   "metadata": {},
   "source": [
    "This code outputs the images of the digits the model miscategorised for visual feedback to the user"
   ]
  },
  {
   "cell_type": "code",
   "execution_count": null,
   "id": "c8ad4a35-cdb8-4fc4-a6c4-14298d9cd938",
   "metadata": {},
   "outputs": [],
   "source": [
    "idx = np.where((y_pred == 7) & (y_true == 2))[0]\n",
    "fig = plt.figure(figsize=(5,30))\n",
    "for i in range(len(idx)):\n",
    "    ax = fig.add_subplot(len(idx),1 , i + 1)\n",
    "    imgplot = ax.imshow(np.reshape(x_test[idx[i],:], (28,28)), cmap=mpl.colormaps['Greys'])\n",
    "    imgplot.set_interpolation(\"nearest\")\n",
    "plt.show()"
   ]
  },
  {
   "cell_type": "code",
   "execution_count": null,
   "id": "413936f4-4c78-46b4-8dcf-d4abcc5b1ddd",
   "metadata": {},
   "outputs": [],
   "source": [
    "idx = np.where((y_pred == 4) & (y_true == 9))[0]\n",
    "fig = plt.figure(figsize=(5,30))\n",
    "for i in range(len(idx)):\n",
    "    ax = fig.add_subplot(len(idx),1 , i + 1)\n",
    "    imgplot = ax.imshow(np.reshape(x_test[idx[i],:], (28,28)), cmap=mpl.colormaps['Greys'])\n",
    "    imgplot.set_interpolation(\"nearest\")\n",
    "plt.show()"
   ]
  }
 ],
 "metadata": {
  "kernelspec": {
   "display_name": "Python 3 (ipykernel)",
   "language": "python",
   "name": "python3"
  },
  "language_info": {
   "codemirror_mode": {
    "name": "ipython",
    "version": 3
   },
   "file_extension": ".py",
   "mimetype": "text/x-python",
   "name": "python",
   "nbconvert_exporter": "python",
   "pygments_lexer": "ipython3",
   "version": "3.10.10"
  }
 },
 "nbformat": 4,
 "nbformat_minor": 5
}
