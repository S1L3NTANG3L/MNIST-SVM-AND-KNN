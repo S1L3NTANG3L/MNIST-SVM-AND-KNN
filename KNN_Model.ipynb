{
 "cells": [
  {
   "cell_type": "code",
   "execution_count": null,
   "id": "b8c28785-f391-42f9-87be-17d8b5a1bf48",
   "metadata": {},
   "outputs": [],
   "source": [
    "import struct\n",
    "import numpy as np\n",
    "from sklearn import svm, metrics\n",
    "from sklearn.ensemble import BaggingClassifier\n",
    "from sklearn import datasets\n",
    "from sklearn.multiclass import OneVsRestClassifier\n",
    "import matplotlib as mpl\n",
    "import matplotlib.pyplot as plt\n",
    "import pickle\n",
    "%matplotlib inline"
   ]
  },
  {
   "cell_type": "code",
   "execution_count": null,
   "id": "3c89e3fc-99f7-412a-920a-233ba6febb9e",
   "metadata": {},
   "outputs": [],
   "source": [
    "import itertools\n",
    "def plot_confusion_matrix(cm, classes,\n",
    "                          normalize=False,\n",
    "                          title='Confusion matrix', cmap=plt.cm.Blues):\n",
    "    \"\"\"\n",
    "    This function prints and plots the confusion matrix. \n",
    "    Normalization can be applied by setting normalize=True`.\n",
    "    \"\"\"\n",
    "    if normalize:\n",
    "        cm = cm.astype('float') / cm. sum (axis=1)[:, np.newaxis] \n",
    "        print(\"Normalized confusion matrix\")\n",
    "    else:    \n",
    "        print('Confusion matrix, without normalization')\n",
    "    print(cm)\n",
    "    plt.imshow(cm, interpolation='nearest', cmap=cmap)\n",
    "    plt.title(title)\n",
    "    plt.colorbar()\n",
    "    tick_marks = np.arange(len(classes))\n",
    "    plt.xticks(tick_marks, classes, rotation=45)\n",
    "    plt.yticks(tick_marks, classes)\n",
    "    fmt = '.2f' if normalize else 'd'\n",
    "    thresh = cm.max() / 2.\n",
    "    for i, j in itertools.product (range(cm.shape[0]), range(cm.shape[1])):\n",
    "        plt.text(j, i, format(cm[i, j], fmt),\n",
    "            horizontalalignment=\"center\",\n",
    "            color=\"white\" if cm[i, j]> thresh else \"black\")\n",
    "    plt.tight_layout()\n",
    "    plt.ylabel('True label')\n",
    "    plt.xlabel('Predicted label')"
   ]
  },
  {
   "cell_type": "code",
   "execution_count": null,
   "id": "608304ca-f17e-4e48-b3b7-3faa0a510525",
   "metadata": {},
   "outputs": [],
   "source": [
    "def read_idx(filename):\n",
    "    with open(filename, 'rb') as f:\n",
    "        zero, data_type, dims = struct.unpack('>HBB', f.read(4))\n",
    "        shape = tuple(struct.unpack('>I', f.read(4))[0] for d in range(dims))\n",
    "        return np.frombuffer(f.read(), dtype=np.uint8).reshape(shape)"
   ]
  },
  {
   "cell_type": "code",
   "execution_count": null,
   "id": "aed392b2-d014-45c4-937f-4b205ac9c251",
   "metadata": {},
   "outputs": [],
   "source": [
    "raw_train = read_idx(\"train-images-idx3-ubyte\")\n",
    "train_data = np.reshape(raw_train, (60000, 28*28))\n",
    "train_label = read_idx(\"train-labels-idx1-ubyte\")\n",
    "raw_test = read_idx(\"t10k-images-idx3-ubyte\")\n",
    "test_data = np.reshape(raw_test, (10000, 28*28))\n",
    "test_label = read_idx(\"t10k-labels-idx1-ubyte\")"
   ]
  },
  {
   "cell_type": "code",
   "execution_count": null,
   "id": "6853f97a-0ba7-4f16-bf98-86ea73562672",
   "metadata": {},
   "outputs": [],
   "source": [
    "start = time.time()\n",
    "X = train_data\n",
    "Y = train_label\n",
    "knn = neighbors.KNeighborsClassifier(n_neighbors=3, metric='manhattan').fit(X,Y)\n",
    "end = time.time()\n",
    "print(\"KNN Time: \", end - start,\"s\")"
   ]
  },
  {
   "cell_type": "code",
   "execution_count": null,
   "id": "52fdfb88-c4a2-4c79-97fe-70aac7d2e1da",
   "metadata": {},
   "outputs": [],
   "source": [
    "start = time.time()\n",
    "X = train_data\n",
    "Y = train_label\n",
    "knn = neighbors.KNeighborsClassifier(n_neighbors=2).fit(X,Y)\n",
    "end = time.time()\n",
    "print(\"KNN Train Time: \", end - start,\"s\")"
   ]
  },
  {
   "cell_type": "code",
   "execution_count": null,
   "id": "41a042c1-edd8-4753-ba96-95a587a172c2",
   "metadata": {},
   "outputs": [],
   "source": [
    "pkl_filename = \"pickle_knn_model.pkl\"\n",
    "with open(pkl_filename, 'wb') as file:\n",
    "    pickle.dump(knn, file)"
   ]
  },
  {
   "cell_type": "code",
   "execution_count": null,
   "id": "26386a89-7d05-4d3b-b70d-8b13f6d82714",
   "metadata": {},
   "outputs": [],
   "source": [
    "pkl_filename = \"pickle_knn_model.pkl\"\n",
    "with open(pkl_filename, 'rb') as file:\n",
    "    knn = pickle.load(file)"
   ]
  },
  {
   "cell_type": "code",
   "execution_count": null,
   "id": "23f5b62f-0513-431f-a723-cf5b778c8cd8",
   "metadata": {},
   "outputs": [],
   "source": [
    "start = time.time()\n",
    "x_test = test_data\n",
    "y_true = test_label\n",
    "y_pred = knn.predict(x_test)\n",
    "end = time.time()\n",
    "print(\"KNN Predict Time: \", end - start, \"s\")"
   ]
  },
  {
   "cell_type": "code",
   "execution_count": null,
   "id": "4556eed6-14d8-4952-9abc-51790c4313af",
   "metadata": {},
   "outputs": [],
   "source": [
    "cm = metrics.confusion_matrix(y_true, y_pred)\n",
    "plot_confusion_matrix(cm, [\"0\",\"1\",\"2\",\"3\",\"4\",\"5\",\"6\",\"7\",\"8\",\"9\"]) #normalize=True"
   ]
  },
  {
   "cell_type": "code",
   "execution_count": null,
   "id": "f7245eea-9b56-4542-ab19-c864c26cb847",
   "metadata": {},
   "outputs": [],
   "source": [
    "start = time.time()\n",
    "score = knn.score(x_test, y_true)\n",
    "print(\"Test score: {0:.2f} %\".format(100 * score))\n",
    "end = time.time()\n",
    "print(\"KNN Score Time: \", end - start, \"s\")"
   ]
  },
  {
   "cell_type": "code",
   "execution_count": null,
   "id": "5c6de85c-51c5-4b2f-8e4a-7fb9f1327a91",
   "metadata": {},
   "outputs": [],
   "source": [
    "idx = np.where((y_pred == 3) & (y_true == 8))[0]\n",
    "fig = plt.figure(figsize=(5,30))\n",
    "for i in range(len(idx)):\n",
    "    ax = fig.add_subplot(len(idx),1 , i + 1)\n",
    "    imgplot = ax.imshow(np.reshape(x_test[idx[i],:], (28,28)), cmap=mpl.colormaps['Greys'])\n",
    "    imgplot.set_interpolation(\"nearest\")\n",
    "plt.show()"
   ]
  },
  {
   "cell_type": "code",
   "execution_count": null,
   "id": "411a985b-4e68-47bd-8981-d2949d736829",
   "metadata": {},
   "outputs": [],
   "source": [
    "idx = np.where((y_pred == 1) & (y_true == 7))[0]\n",
    "fig = plt.figure(figsize=(5,30))\n",
    "for i in range(len(idx)):\n",
    "    ax = fig.add_subplot(len(idx),1 , i + 1)\n",
    "    imgplot = ax.imshow(np.reshape(x_test[idx[i],:], (28,28)), cmap=mpl.colormaps['Greys'])\n",
    "    imgplot.set_interpolation(\"nearest\")\n",
    "plt.show()"
   ]
  },
  {
   "cell_type": "code",
   "execution_count": null,
   "id": "c3891ce8-1708-411a-9dcd-332aafa70cae",
   "metadata": {},
   "outputs": [],
   "source": [
    "idx = np.where((y_pred == 9) & (y_true == 4))[0]\n",
    "fig = plt.figure(figsize=(5,30))\n",
    "for i in range(len(idx)):\n",
    "    ax = fig.add_subplot(len(idx),1 , i + 1)\n",
    "    imgplot = ax.imshow(np.reshape(x_test[idx[i],:], (28,28)), cmap=mpl.colormaps['Greys'])\n",
    "    imgplot.set_interpolation(\"nearest\")\n",
    "plt.show()"
   ]
  }
 ],
 "metadata": {
  "kernelspec": {
   "display_name": "Python 3 (ipykernel)",
   "language": "python",
   "name": "python3"
  },
  "language_info": {
   "codemirror_mode": {
    "name": "ipython",
    "version": 3
   },
   "file_extension": ".py",
   "mimetype": "text/x-python",
   "name": "python",
   "nbconvert_exporter": "python",
   "pygments_lexer": "ipython3",
   "version": "3.10.10"
  }
 },
 "nbformat": 4,
 "nbformat_minor": 5
}
